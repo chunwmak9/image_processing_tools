{
 "cells": [
  {
   "cell_type": "code",
   "execution_count": 2,
   "id": "2612e1f2",
   "metadata": {},
   "outputs": [
    {
     "data": {
      "text/plain": [
       "array([[[ 16., 109.,  47.],\n",
       "        [ 16., 109.,  47.],\n",
       "        [ 16., 109.,  47.],\n",
       "        ...,\n",
       "        [ 16., 109.,  47.],\n",
       "        [ 16., 109.,  47.],\n",
       "        [ 16., 109.,  47.]],\n",
       "\n",
       "       [[ 16., 109.,  47.],\n",
       "        [ 16., 109.,  47.],\n",
       "        [ 16., 109.,  47.],\n",
       "        ...,\n",
       "        [ 16., 109.,  47.],\n",
       "        [ 16., 109.,  47.],\n",
       "        [ 16., 109.,  47.]],\n",
       "\n",
       "       [[ 16., 109.,  47.],\n",
       "        [ 16., 109.,  47.],\n",
       "        [ 16., 109.,  47.],\n",
       "        ...,\n",
       "        [ 16., 109.,  47.],\n",
       "        [ 16., 109.,  47.],\n",
       "        [ 16., 109.,  47.]],\n",
       "\n",
       "       ...,\n",
       "\n",
       "       [[ 16., 109.,  47.],\n",
       "        [ 16., 109.,  47.],\n",
       "        [ 16., 109.,  47.],\n",
       "        ...,\n",
       "        [ 16., 109.,  47.],\n",
       "        [ 16., 109.,  47.],\n",
       "        [ 16., 109.,  47.]],\n",
       "\n",
       "       [[ 16., 109.,  47.],\n",
       "        [ 16., 109.,  47.],\n",
       "        [ 16., 109.,  47.],\n",
       "        ...,\n",
       "        [ 16., 109.,  47.],\n",
       "        [ 16., 109.,  47.],\n",
       "        [ 16., 109.,  47.]],\n",
       "\n",
       "       [[ 16., 109.,  47.],\n",
       "        [ 16., 109.,  47.],\n",
       "        [ 16., 109.,  47.],\n",
       "        ...,\n",
       "        [ 16., 109.,  47.],\n",
       "        [ 16., 109.,  47.],\n",
       "        [ 16., 109.,  47.]]])"
      ]
     },
     "execution_count": 2,
     "metadata": {},
     "output_type": "execute_result"
    }
   ],
   "source": [
    "import cv2\n",
    "import numpy as np\n"
   ]
  },
  {
   "cell_type": "code",
   "execution_count": 2,
   "id": "ed1ffb85",
   "metadata": {},
   "outputs": [
    {
     "data": {
      "text/plain": [
       "(480, 394, 3)"
      ]
     },
     "execution_count": 2,
     "metadata": {},
     "output_type": "execute_result"
    }
   ],
   "source": [
    "img_path = \"./face.png\"\n",
    "input = cv2.imread(img_path)\n",
    "i_h,i_w = input.shape[:2]\n",
    "\n",
    "input.shape"
   ]
  },
  {
   "cell_type": "code",
   "execution_count": 3,
   "id": "052c4118",
   "metadata": {},
   "outputs": [],
   "source": [
    "o_h,o_w = (20,20)\n",
    "\n",
    "temp_image = cv2.resize(input,(o_w,o_h),interpolation=cv2.INTER_LINEAR)\n",
    "#compress image into pixelated size\n",
    "\n",
    "output = cv2.resize(temp_image,(i_w,i_h),interpolation=cv2.INTER_NEAREST)\n",
    "#cv2.imshow(\"Input\",output)\n",
    "#cv2.imshow(\"Output\",output)\n",
    "cv2.imshow(\"fake\",fake_img)\n",
    "#cv2.waitKey(2000)"
   ]
  },
  {
   "cell_type": "code",
   "execution_count": null,
   "id": "f1aa381e",
   "metadata": {},
   "outputs": [],
   "source": []
  },
  {
   "cell_type": "code",
   "execution_count": null,
   "id": "e3350f7d",
   "metadata": {},
   "outputs": [],
   "source": []
  }
 ],
 "metadata": {
  "kernelspec": {
   "display_name": "Python 3 (ipykernel)",
   "language": "python",
   "name": "python3"
  },
  "language_info": {
   "codemirror_mode": {
    "name": "ipython",
    "version": 3
   },
   "file_extension": ".py",
   "mimetype": "text/x-python",
   "name": "python",
   "nbconvert_exporter": "python",
   "pygments_lexer": "ipython3",
   "version": "3.9.7"
  }
 },
 "nbformat": 4,
 "nbformat_minor": 5
}
